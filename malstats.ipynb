{
 "cells": [
  {
   "cell_type": "code",
   "execution_count": 3,
   "metadata": {},
   "outputs": [],
   "source": [
    "# imports\n",
    "import xml.etree.ElementTree as ET\n",
    "import numpy as np\n",
    "from glob import glob\n",
    "import os"
   ]
  },
  {
   "cell_type": "code",
   "execution_count": 10,
   "metadata": {},
   "outputs": [],
   "source": [
    "# Find XML file\n",
    "if len(glob(os.getcwd() + '/xml/*.xml')) >= 2:\n",
    "    raise Exception(\"You have more than one XML file in your directory, please delete one!\")\n",
    "else:\n",
    "    xml_file = glob(os.getcwd() + '/xml/*.xml')[0]"
   ]
  },
  {
   "cell_type": "code",
   "execution_count": 36,
   "metadata": {},
   "outputs": [
    {
     "name": "stdout",
     "output_type": "stream",
     "text": [
      "154 scores found.\n"
     ]
    }
   ],
   "source": [
    "# Find scores\n",
    "def get_scores(xml_file):\n",
    "    tree = ET.parse(xml_file)\n",
    "    root = tree.getroot()\n",
    "    scores = []\n",
    "    for item in root.findall('./anime/my_score'):\n",
    "        if int(item.text) != 0:\n",
    "            scores.append(int(item.text))\n",
    "    return scores\n",
    "\n",
    "scores = get_scores(xml_file)\n",
    "print('%d scores found.' % (len(scores)))"
   ]
  },
  {
   "cell_type": "code",
   "execution_count": 41,
   "metadata": {},
   "outputs": [
    {
     "name": "stdout",
     "output_type": "stream",
     "text": [
      "Mean: 5.824675\n",
      "Standard deviation: 2.086235\n"
     ]
    }
   ],
   "source": [
    "mean = np.mean(scores)\n",
    "sd = np.std(scores)\n",
    "print('Mean: %f' % mean)\n",
    "print('Standard deviation: %f' % sd)"
   ]
  }
 ],
 "metadata": {
  "kernelspec": {
   "display_name": "Python 3",
   "language": "python",
   "name": "python3"
  },
  "language_info": {
   "codemirror_mode": {
    "name": "ipython",
    "version": 3
   },
   "file_extension": ".py",
   "mimetype": "text/x-python",
   "name": "python",
   "nbconvert_exporter": "python",
   "pygments_lexer": "ipython3",
   "version": "3.6.8"
  }
 },
 "nbformat": 4,
 "nbformat_minor": 2
}
